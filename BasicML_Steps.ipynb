{
  "nbformat": 4,
  "nbformat_minor": 0,
  "metadata": {
    "colab": {
      "provenance": [],
      "authorship_tag": "ABX9TyNLgFF4RAWUi34ShtO81uTB",
      "include_colab_link": true
    },
    "kernelspec": {
      "name": "python3",
      "display_name": "Python 3"
    },
    "language_info": {
      "name": "python"
    }
  },
  "cells": [
    {
      "cell_type": "markdown",
      "metadata": {
        "id": "view-in-github",
        "colab_type": "text"
      },
      "source": [
        "<a href=\"https://colab.research.google.com/github/ShoryaDubey/ML/blob/main/BasicML_Steps.ipynb\" target=\"_parent\"><img src=\"https://colab.research.google.com/assets/colab-badge.svg\" alt=\"Open In Colab\"/></a>"
      ]
    },
    {
      "cell_type": "code",
      "source": [
        "from sklearn.impute import SimpleImputer\n",
        "from sklearn.compose import ColumnTransformer\n",
        "from sklearn.preprocessing import OneHotEncoder\n",
        "from sklearn.preprocessing import LabelEncoder\n",
        "from sklearn.model_selection import train_test_split\n",
        "from sklearn.preprocessing import StandardScaler\n",
        "from sklearn.linear_model import LinearRegression\n",
        "import matplotlib.pyplot as plt\n",
        "import numpy as np\n",
        "import pandas as pd"
      ],
      "metadata": {
        "id": "iurDYU0KcyuD"
      },
      "execution_count": null,
      "outputs": []
    },
    {
      "cell_type": "code",
      "source": [
        "with open(\"/content/sample_data/example.csv\", \"w\") as f:\n",
        "    f.write(\"\"\"Age,Glucose,BloodPressure,Gender,Outcome\n",
        "25,120,80,M,0\n",
        "30,,85,F,1\n",
        "35,140,,M,0\n",
        ",130,90,F,1\n",
        "28,115,75,M,0\n",
        "\"\"\")\n"
      ],
      "metadata": {
        "id": "TP5eDwzf-2qt"
      },
      "execution_count": null,
      "outputs": []
    },
    {
      "cell_type": "code",
      "source": [
        "df = pd.read_csv('/content/sample_data/example.csv')\n",
        "# X = df.iloc[:, :-1]\n",
        "# Y = df.iloc[:, -1]\n",
        "\n",
        "X = df.drop('Outcome', axis=1)\n",
        "Y = df['Outcome']"
      ],
      "metadata": {
        "id": "LnN6Q0oqnqaC"
      },
      "execution_count": null,
      "outputs": []
    },
    {
      "cell_type": "markdown",
      "source": [
        "Checking for null value"
      ],
      "metadata": {
        "id": "OLa0_RJE_lVt"
      }
    },
    {
      "cell_type": "code",
      "source": [
        "missing_data = X.isnull().sum()\n",
        "\n",
        "print(missing_data)"
      ],
      "metadata": {
        "colab": {
          "base_uri": "https://localhost:8080/"
        },
        "id": "UIKD4B_MoxL3",
        "outputId": "85a71cb9-9128-40b7-f634-56b02ba1b4b2"
      },
      "execution_count": null,
      "outputs": [
        {
          "output_type": "stream",
          "name": "stdout",
          "text": [
            "Age              1\n",
            "Glucose          1\n",
            "BloodPressure    1\n",
            "Gender           0\n",
            "dtype: int64\n"
          ]
        }
      ]
    },
    {
      "cell_type": "markdown",
      "source": [
        "Handling Missing Values"
      ],
      "metadata": {
        "id": "1MUh2BRC_oUr"
      }
    },
    {
      "cell_type": "code",
      "source": [
        "imputer = SimpleImputer(missing_values=np.nan, strategy='mean')\n",
        "imputer.fit(X.iloc[:, 0:3])\n",
        "X.iloc[:, 0:3] = imputer.transform(X.iloc[:, 0:3])"
      ],
      "metadata": {
        "id": "6A4cFGb4pQBV"
      },
      "execution_count": null,
      "outputs": []
    },
    {
      "cell_type": "markdown",
      "source": [
        "Encoding Catagorical labels in dataset"
      ],
      "metadata": {
        "id": "dHa4ANJKAA5t"
      }
    },
    {
      "cell_type": "code",
      "source": [
        "ct = ColumnTransformer(\n",
        "    transformers=[\n",
        "        ('encoder', OneHotEncoder(), [3])\n",
        "    ],\n",
        "    remainder='passthrough'\n",
        ")\n",
        "\n",
        "X = ct.fit_transform(X)\n",
        "\n",
        "print(X)"
      ],
      "metadata": {
        "colab": {
          "base_uri": "https://localhost:8080/"
        },
        "id": "d0d4BS0sz4fm",
        "outputId": "dbe3ab7c-da4f-431d-dae8-1517128e0283"
      },
      "execution_count": null,
      "outputs": [
        {
          "output_type": "stream",
          "name": "stdout",
          "text": [
            "[[  0.     1.    25.   120.    80.  ]\n",
            " [  1.     0.    30.   126.25  85.  ]\n",
            " [  0.     1.    35.   140.    82.5 ]\n",
            " [  1.     0.    29.5  130.    90.  ]\n",
            " [  0.     1.    28.   115.    75.  ]]\n"
          ]
        }
      ]
    },
    {
      "cell_type": "markdown",
      "source": [
        "Simple Lable Encoder (0, 1)"
      ],
      "metadata": {
        "id": "ZPLq8418ARC1"
      }
    },
    {
      "cell_type": "code",
      "source": [
        "le = LabelEncoder()\n",
        "Y = le.fit_transform(Y)"
      ],
      "metadata": {
        "id": "VJEyrtrg2WTE"
      },
      "execution_count": null,
      "outputs": []
    },
    {
      "cell_type": "code",
      "source": [
        "print(Y)"
      ],
      "metadata": {
        "colab": {
          "base_uri": "https://localhost:8080/"
        },
        "id": "NSzMGEz12qD9",
        "outputId": "dacb6c7d-2cfb-43b5-d087-aa92aa45bf6b"
      },
      "execution_count": null,
      "outputs": [
        {
          "output_type": "stream",
          "name": "stdout",
          "text": [
            "[0 1 0 1 0]\n"
          ]
        }
      ]
    },
    {
      "cell_type": "markdown",
      "source": [
        "Splitting the data into train and test sets."
      ],
      "metadata": {
        "id": "CRXyhy1CCESA"
      }
    },
    {
      "cell_type": "code",
      "source": [
        "x_train, x_test, y_train, y_test = train_test_split(\n",
        "    X, Y, test_size = 0.2, random_state=42)"
      ],
      "metadata": {
        "id": "xtkAaQM_AcN3"
      },
      "execution_count": null,
      "outputs": []
    },
    {
      "cell_type": "code",
      "source": [
        "print(x_train)"
      ],
      "metadata": {
        "colab": {
          "base_uri": "https://localhost:8080/"
        },
        "id": "e2ZxH_BmBoBw",
        "outputId": "3f5aa0e5-cfa2-417b-efbe-5854b73456b7"
      },
      "execution_count": null,
      "outputs": [
        {
          "output_type": "stream",
          "name": "stdout",
          "text": [
            "[[  0.    1.   28.  115.   75. ]\n",
            " [  0.    1.   35.  140.   82.5]\n",
            " [  0.    1.   25.  120.   80. ]\n",
            " [  1.    0.   29.5 130.   90. ]]\n"
          ]
        }
      ]
    },
    {
      "cell_type": "code",
      "source": [
        "print(x_test)"
      ],
      "metadata": {
        "colab": {
          "base_uri": "https://localhost:8080/"
        },
        "id": "q117lVxaB2fn",
        "outputId": "867fa350-0a60-42e3-dac3-b5f0222e934f"
      },
      "execution_count": null,
      "outputs": [
        {
          "output_type": "stream",
          "name": "stdout",
          "text": [
            "[[  1.     0.    30.   126.25  85.  ]]\n"
          ]
        }
      ]
    },
    {
      "cell_type": "code",
      "source": [
        "sc = StandardScaler()\n",
        "x_train[:, 2:] = sc.fit_transform(x_train[:, 2:])\n",
        "x_test[:, 2:] = sc.transform(x_test[:, 2:])"
      ],
      "metadata": {
        "id": "pSK2xG4YB8-F"
      },
      "execution_count": null,
      "outputs": []
    },
    {
      "cell_type": "code",
      "source": [
        "print(x_train)"
      ],
      "metadata": {
        "colab": {
          "base_uri": "https://localhost:8080/"
        },
        "id": "eN4vUQKeGDoZ",
        "outputId": "5ad582b4-a09f-4d5a-8f4d-463bee856fb4"
      },
      "execution_count": null,
      "outputs": [
        {
          "output_type": "stream",
          "name": "stdout",
          "text": [
            "[[ 0.          1.         -0.37886012 -1.1717002  -1.27017059]\n",
            " [ 0.          1.          1.54988233  1.43207802  0.11547005]\n",
            " [ 0.          1.         -1.20546403 -0.65094455 -0.34641016]\n",
            " [ 1.          0.          0.03444183  0.39056673  1.5011107 ]]\n"
          ]
        }
      ]
    },
    {
      "cell_type": "code",
      "source": [
        "print(x_test)"
      ],
      "metadata": {
        "colab": {
          "base_uri": "https://localhost:8080/"
        },
        "id": "sUt9qq9JGhuY",
        "outputId": "0ed80305-f262-459d-85c1-5ae55ebc2d72"
      },
      "execution_count": null,
      "outputs": [
        {
          "output_type": "stream",
          "name": "stdout",
          "text": [
            "[[1.         0.         0.17220915 0.         0.57735027]]\n"
          ]
        }
      ]
    }
  ]
}